{
 "cells": [
  {
   "cell_type": "code",
   "execution_count": 1,
   "metadata": {},
   "outputs": [
    {
     "ename": "ImportError",
     "evalue": "cannot import name 'path' from 'pathlib' (c:\\Users\\xgyri\\Anaconda3.0\\envs\\dev\\lib\\pathlib.py)",
     "output_type": "error",
     "traceback": [
      "\u001b[1;31m---------------------------------------------------------------------------\u001b[0m",
      "\u001b[1;31mImportError\u001b[0m                               Traceback (most recent call last)",
      "Cell \u001b[1;32mIn[1], line 2\u001b[0m\n\u001b[0;32m      1\u001b[0m \u001b[38;5;28;01mimport\u001b[39;00m \u001b[38;5;21;01mpandas\u001b[39;00m \u001b[38;5;28;01mas\u001b[39;00m \u001b[38;5;21;01mpd\u001b[39;00m \n\u001b[1;32m----> 2\u001b[0m \u001b[38;5;28;01mfrom\u001b[39;00m \u001b[38;5;21;01mpathlib\u001b[39;00m \u001b[38;5;28;01mimport\u001b[39;00m path\n\u001b[0;32m      4\u001b[0m filepath\u001b[38;5;241m=\u001b[39m path(\u001b[38;5;124m\"\u001b[39m\u001b[38;5;124m../Resources/election_data.csv\u001b[39m\u001b[38;5;124m\"\u001b[39m)\n\u001b[0;32m      5\u001b[0m df \u001b[38;5;241m=\u001b[39m pd\u001b[38;5;241m.\u001b[39mread_csv(filepath,sep \u001b[38;5;241m=\u001b[39m \u001b[38;5;124m\"\u001b[39m\u001b[38;5;124m,\u001b[39m\u001b[38;5;124m\"\u001b[39m)\n",
      "\u001b[1;31mImportError\u001b[0m: cannot import name 'path' from 'pathlib' (c:\\Users\\xgyri\\Anaconda3.0\\envs\\dev\\lib\\pathlib.py)"
     ]
    }
   ],
   "source": [
    "import pandas as pd \n",
    "from pathlib import path\n",
    "\n",
    "filepath= path(\"../Resources/election_data.csv\")\n",
    "df = pd.read_csv(filepath,sep = \",\")\n",
    "\n",
    "total_votes = df['Ballot ID'].count()\n",
    "candidates = df['Candidate'].unique()\n",
    "\n",
    "number_of_votes_per_candidate=df.groupby('Candidate').agg({'Ballot ID' : 'count'})\n",
    "percentage_per_candidate = (number_of_votes_per_candidate['Ballot ID'] / total_votes) * 100\n",
    "percentage_per_candidate = percentage_per_candidate.sort_values(ascending=False)\n",
    "winner = percentage_per_candidate.index[0]\n",
    "\n",
    "\n",
    "# Create a new DataFrame with the results\n",
    "results_df = pd.DataFrame({\n",
    "    'Candidate': percentage_per_candidate.index,\n",
    "    'Percentage of Votes': percentage_per_candidate.values,\n",
    "    'Total Votes': number_of_votes_per_candidate['Ballot ID'].values\n",
    "})\n",
    "\n",
    "# Sort the results by percentage of votes in descending order\n",
    "results_df = results_df.sort_values('Candidate', ascending=True)\n",
    "\n",
    "# Add a column with the formatted percentage of votes\n",
    "results_df['Percentage of Votes'] = results_df['Percentage of Votes'].map('{:.3f}%'.format)\n",
    "\n",
    "# Add a header with the total number of votes\n",
    "header = f'''\n",
    "Election Results\n",
    "-------------------------\n",
    "Total Votes: {total_votes}\n",
    "-------------------------\n",
    "'''\n",
    "\n",
    "# Add a footer with the winner\n",
    "footer = f'''\n",
    "-------------------------\n",
    "Winner: {winner}\n",
    "-------------------------\n",
    "'''\n",
    "\n",
    "# Write the results to a CSV file\n",
    "with open('./PyPoll/analysis/election_results.csv', 'w') as f:\n",
    "    f.write(header)\n",
    "    results_df.to_csv(f, index=False)\n",
    "    f.write(footer)"
   ]
  }
 ],
 "metadata": {
  "kernelspec": {
   "display_name": "base",
   "language": "python",
   "name": "python3"
  },
  "language_info": {
   "codemirror_mode": {
    "name": "ipython",
    "version": 3
   },
   "file_extension": ".py",
   "mimetype": "text/x-python",
   "name": "python",
   "nbconvert_exporter": "python",
   "pygments_lexer": "ipython3",
   "version": "3.10.13"
  }
 },
 "nbformat": 4,
 "nbformat_minor": 2
}
