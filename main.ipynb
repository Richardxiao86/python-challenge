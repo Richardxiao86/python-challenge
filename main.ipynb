{
 "cells": [
  {
   "cell_type": "code",
   "execution_count": 5,
   "metadata": {},
   "outputs": [
    {
     "name": "stdout",
     "output_type": "stream",
     "text": [
      "Total number of months: 86\n",
      "Total profit/loss: $22564198\n",
      "Total change: -706444\n",
      "Average change: $-8311.11\n",
      "Greatest Increase in Profits: Aug-16 ($1862002)\n",
      "Greatest Decrease in Profits: Feb-14 ($-1825558)\n",
      "\n",
      "Financial Analysis\n",
      "----------------------------\n",
      "Total Months: 86\n",
      "Total: $22564198\n",
      "Average Change: $-8311.11\n",
      "Greatest Increase in Profits: Aug-16 ($1862002)\n",
      "Greatest Decrease in Profits: Feb-14 ($-1825558)\n",
      "\n"
     ]
    },
    {
     "ename": "FileNotFoundError",
     "evalue": "[Errno 2] No such file or directory: './PyBank/analysis/result.txt'",
     "output_type": "error",
     "traceback": [
      "\u001b[1;31m---------------------------------------------------------------------------\u001b[0m",
      "\u001b[1;31mFileNotFoundError\u001b[0m                         Traceback (most recent call last)",
      "Cell \u001b[1;32mIn[5], line 60\u001b[0m\n\u001b[0;32m     57\u001b[0m \u001b[38;5;28mprint\u001b[39m(output)\n\u001b[0;32m     59\u001b[0m output_file \u001b[38;5;241m=\u001b[39m \u001b[38;5;124m\"\u001b[39m\u001b[38;5;124m./PyBank/analysis/result.txt\u001b[39m\u001b[38;5;124m\"\u001b[39m\n\u001b[1;32m---> 60\u001b[0m \u001b[38;5;28;01mwith\u001b[39;00m \u001b[38;5;28mopen\u001b[39m(output_file, \u001b[38;5;124m\"\u001b[39m\u001b[38;5;124mw\u001b[39m\u001b[38;5;124m\"\u001b[39m) \u001b[38;5;28;01mas\u001b[39;00m f:\n\u001b[0;32m     61\u001b[0m     f\u001b[38;5;241m.\u001b[39mwrite(output)\n",
      "File \u001b[1;32mc:\\Users\\xgyri\\Anaconda3.0\\Lib\\site-packages\\IPython\\core\\interactiveshell.py:310\u001b[0m, in \u001b[0;36m_modified_open\u001b[1;34m(file, *args, **kwargs)\u001b[0m\n\u001b[0;32m    303\u001b[0m \u001b[38;5;28;01mif\u001b[39;00m file \u001b[38;5;129;01min\u001b[39;00m {\u001b[38;5;241m0\u001b[39m, \u001b[38;5;241m1\u001b[39m, \u001b[38;5;241m2\u001b[39m}:\n\u001b[0;32m    304\u001b[0m     \u001b[38;5;28;01mraise\u001b[39;00m \u001b[38;5;167;01mValueError\u001b[39;00m(\n\u001b[0;32m    305\u001b[0m         \u001b[38;5;124mf\u001b[39m\u001b[38;5;124m\"\u001b[39m\u001b[38;5;124mIPython won\u001b[39m\u001b[38;5;124m'\u001b[39m\u001b[38;5;124mt let you open fd=\u001b[39m\u001b[38;5;132;01m{\u001b[39;00mfile\u001b[38;5;132;01m}\u001b[39;00m\u001b[38;5;124m by default \u001b[39m\u001b[38;5;124m\"\u001b[39m\n\u001b[0;32m    306\u001b[0m         \u001b[38;5;124m\"\u001b[39m\u001b[38;5;124mas it is likely to crash IPython. If you know what you are doing, \u001b[39m\u001b[38;5;124m\"\u001b[39m\n\u001b[0;32m    307\u001b[0m         \u001b[38;5;124m\"\u001b[39m\u001b[38;5;124myou can use builtins\u001b[39m\u001b[38;5;124m'\u001b[39m\u001b[38;5;124m open.\u001b[39m\u001b[38;5;124m\"\u001b[39m\n\u001b[0;32m    308\u001b[0m     )\n\u001b[1;32m--> 310\u001b[0m \u001b[38;5;28;01mreturn\u001b[39;00m io_open(file, \u001b[38;5;241m*\u001b[39margs, \u001b[38;5;241m*\u001b[39m\u001b[38;5;241m*\u001b[39mkwargs)\n",
      "\u001b[1;31mFileNotFoundError\u001b[0m: [Errno 2] No such file or directory: './PyBank/analysis/result.txt'"
     ]
    }
   ],
   "source": [
    "import csv \n",
    "\n",
    "budget_csv = r\"/Data analytic boot camp/Module 3/Starter_Code (13)/Starter_Code/PyBank/Resources/budget_data.csv\"\n",
    "\n",
    "with open(budget_csv, 'r') as csvfile:\n",
    "    reader = csv.reader(csvfile, delimiter = \",\")\n",
    "    next(reader)\n",
    "\n",
    "    count = 0 \n",
    "    total = 0\n",
    "    prev_revenue = 0 \n",
    "    revenue_change_list = []\n",
    "    month_of_change = []\n",
    "    total_change = 0 \n",
    "    \n",
    "    for row in reader:\n",
    "        count = count + 1\n",
    "        current_revenue = int(row[1])\n",
    "        total = total + current_revenue\n",
    "        \n",
    "        if prev_revenue != 0 :\n",
    "            revenue_change = current_revenue - prev_revenue\n",
    "            revenue_change_list.append(revenue_change)\n",
    "            month_of_change.append(row[0])\n",
    "            total_change = total_change + revenue_change\n",
    "            \n",
    "        prev_revenue = current_revenue\n",
    "    \n",
    "    avg_change = total_change / (count - 1)\n",
    "\n",
    "    \n",
    "    print(f'Total number of months: {count}')\n",
    "    print(f'Total profit/loss: ${total}')\n",
    "    print(f'Total change: {total_change}')\n",
    "    print(f'Average change: ${avg_change:.2f}')\n",
    "    \n",
    "    max_increase = max(revenue_change_list)\n",
    "    max_increase_month = month_of_change[revenue_change_list.index(max_increase)]\n",
    "  \n",
    "    print(f\"Greatest Increase in Profits: {max_increase_month} (${max_increase})\")\n",
    "  \n",
    "    max_decrease = min(revenue_change_list)\n",
    "    max_decrease_month = month_of_change[revenue_change_list.index(max_decrease)]\n",
    "\n",
    "    print(f\"Greatest Decrease in Profits: {max_decrease_month} (${max_decrease})\") \n",
    "\n",
    "output = (\n",
    "    \n",
    "    f\"\\nFinancial Analysis\\n\"\n",
    "    f\"----------------------------\\n\"\n",
    "    f\"Total Months: {count}\\n\"\n",
    "    f\"Total: ${total}\\n\"\n",
    "    f\"Average Change: ${avg_change:.2f}\\n\"\n",
    "    f\"Greatest Increase in Profits: {max_increase_month} (${max_increase})\\n\"\n",
    "    f\"Greatest Decrease in Profits: {max_decrease_month} (${max_decrease})\\n\")\n",
    "\n",
    "print(output)\n",
    "\n",
    "output_file = \"./PyBank/analysis/result.txt\"\n",
    "with open(output_file, \"w\") as f:\n",
    "    f.write(output)\n"
   ]
  }
 ],
 "metadata": {
  "kernelspec": {
   "display_name": "base",
   "language": "python",
   "name": "python3"
  },
  "language_info": {
   "codemirror_mode": {
    "name": "ipython",
    "version": 3
   },
   "file_extension": ".py",
   "mimetype": "text/x-python",
   "name": "python",
   "nbconvert_exporter": "python",
   "pygments_lexer": "ipython3",
   "version": "3.11.5"
  }
 },
 "nbformat": 4,
 "nbformat_minor": 2
}
